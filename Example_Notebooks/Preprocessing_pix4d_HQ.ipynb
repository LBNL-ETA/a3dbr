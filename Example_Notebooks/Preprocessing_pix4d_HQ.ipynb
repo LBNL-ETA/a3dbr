{
 "cells": [
  {
   "cell_type": "code",
   "execution_count": 1,
   "metadata": {},
   "outputs": [],
   "source": [
    "%load_ext autoreload\n",
    "%autoreload 2\n",
    "import sys\n",
    "import os\n",
    "sys.path.append(os.path.dirname(os.getcwd()))\n",
    "import numpy as np\n",
    "import argparse\n",
    "import laspy\n",
    "from footprint_extraction import preprocess"
   ]
  },
  {
   "cell_type": "code",
   "execution_count": 6,
   "metadata": {},
   "outputs": [
    {
     "name": "stdout",
     "output_type": "stream",
     "text": [
      "(5000000, 3)\n"
     ]
    }
   ],
   "source": [
    "\n",
    "\n",
    "path = \"/Users/stouzani/Desktop/Unstructured_ML/Drone/Drone_Data_Capture/pix4d_HQ/pix4d_HQ/2_densification/point_cloud/\"\n",
    "out_dir = \"/Users/stouzani/Desktop/Unstructured_ML/Drone/Drone_Data_Capture/pix4d_HQ/Data_results/\"\n",
    "num_out_points = 5000000\n",
    "\n",
    "os.makedirs(out_dir, exist_ok=True)\n",
    "\n",
    "# if not exists(out_dir):\n",
    "#     mkdir(out_dir)\n",
    "\n",
    "point_cloud_files = [f for f in os.listdir(path) if os.path.isfile(os.path.join(path, f)) and f.split('.')[1] == \"las\"]\n",
    "if len(point_cloud_files) == 0:\n",
    "    print(\"Could not find .las files at the location: \" + path)\n",
    "\n",
    "loaded_points = None\n",
    "for f in point_cloud_files:\n",
    "    points = preprocess.load_las_points(path + \"/\" + f)\n",
    "    if loaded_points is None:\n",
    "        loaded_points = points\n",
    "    else:\n",
    "        loaded_points = np.concatenate((loaded_points, points), axis=0)\n",
    "\n",
    "if loaded_points is not None:\n",
    "    print(loaded_points[:num_out_points].shape)\n",
    "    if loaded_points.shape[0] > num_out_points:\n",
    "        np.random.shuffle(loaded_points)\n",
    "        loaded_points = loaded_points[:num_out_points]\n",
    "\n",
    "    np.savetxt(out_dir + 'points.txt', loaded_points, delimiter=',')\n",
    "else:\n",
    "    print(\"No points found...\")"
   ]
  },
  {
   "cell_type": "code",
   "execution_count": null,
   "metadata": {},
   "outputs": [],
   "source": []
  }
 ],
 "metadata": {
  "kernelspec": {
   "display_name": "a3dbr",
   "language": "python",
   "name": "a3dbr"
  },
  "language_info": {
   "codemirror_mode": {
    "name": "ipython",
    "version": 3
   },
   "file_extension": ".py",
   "mimetype": "text/x-python",
   "name": "python",
   "nbconvert_exporter": "python",
   "pygments_lexer": "ipython3",
   "version": "3.8.5"
  }
 },
 "nbformat": 4,
 "nbformat_minor": 2
}
