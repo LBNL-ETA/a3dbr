{
 "cells": [
  {
   "cell_type": "code",
   "execution_count": 4,
   "metadata": {},
   "outputs": [
    {
     "name": "stdout",
     "output_type": "stream",
     "text": [
      "The autoreload extension is already loaded. To reload it, use:\n",
      "  %reload_ext autoreload\n"
     ]
    }
   ],
   "source": [
    "%load_ext autoreload\n",
    "%autoreload 2\n",
    "import sys\n",
    "import os\n",
    "sys.path.append(os.path.dirname(os.getcwd()))\n",
    "import numpy as np\n",
    "import argparse\n",
    "import laspy\n",
    "from footprint_extraction import preprocess"
   ]
  },
  {
   "cell_type": "code",
   "execution_count": 7,
   "metadata": {},
   "outputs": [
    {
     "name": "stdout",
     "output_type": "stream",
     "text": [
      "(5000000, 3)\n"
     ]
    }
   ],
   "source": [
    "path = \"../LAS/\"\n",
    "out_dir = \"../Data1/\"\n",
    "num_out_points = 5000000\n",
    "\n",
    "if not exists(out_dir):\n",
    "    mkdir(out_dir)\n",
    "\n",
    "point_cloud_files = [f for f in listdir(path) if isfile(join(path, f)) and f.split('.')[1] == \"las\"]\n",
    "if len(point_cloud_files) == 0:\n",
    "    print(\"Could not find .las files at the location: \" + path)\n",
    "\n",
    "loaded_points = None\n",
    "for f in point_cloud_files:\n",
    "    points = preprocess.load_las_points(path + \"/\" + f)\n",
    "    if loaded_points is None:\n",
    "        loaded_points = points\n",
    "    else:\n",
    "        loaded_points = np.concatenate((loaded_points, points), axis=0)\n",
    "\n",
    "if loaded_points is not None:\n",
    "    print(loaded_points[:num_out_points].shape)\n",
    "    if loaded_points.shape[0] > num_out_points:\n",
    "        np.random.shuffle(loaded_points)\n",
    "        loaded_points = loaded_points[:num_out_points]\n",
    "\n",
    "    np.savetxt(out_dir + 'points.txt', loaded_points, delimiter=',')\n",
    "else:\n",
    "    print(\"No points found...\")"
   ]
  },
  {
   "cell_type": "code",
   "execution_count": null,
   "metadata": {},
   "outputs": [],
   "source": []
  }
 ],
 "metadata": {
  "kernelspec": {
   "display_name": "Python 3",
   "language": "python",
   "name": "python3"
  },
  "language_info": {
   "codemirror_mode": {
    "name": "ipython",
    "version": 3
   },
   "file_extension": ".py",
   "mimetype": "text/x-python",
   "name": "python",
   "nbconvert_exporter": "python",
   "pygments_lexer": "ipython3",
   "version": "3.6.8"
  }
 },
 "nbformat": 4,
 "nbformat_minor": 2
}
