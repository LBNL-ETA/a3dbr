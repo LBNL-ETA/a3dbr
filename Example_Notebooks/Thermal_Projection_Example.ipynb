{
 "cells": [
  {
   "cell_type": "code",
   "execution_count": 1,
   "metadata": {},
   "outputs": [],
   "source": [
    "%load_ext autoreload\n",
    "%autoreload 2\n",
    "from matplotlib.path import Path\n",
    "import numpy as np\n",
    "import argparse\n",
    "import os, sys\n",
    "sys.path.append(os.path.dirname(os.getcwd()))\n",
    "import polygon_primitives.file_writer as fw\n",
    "import image_processing.camera_processing as cp\n",
    "import image_processing.utils as utils\n",
    "from image_processing import polygon_projection\n",
    "from PIL import Image\n",
    "\n",
    "import matplotlib.pyplot as plt\n",
    "%matplotlib inline"
   ]
  },
  {
   "cell_type": "markdown",
   "metadata": {},
   "source": [
    "We first initialize the directories, load the 'pmatrix' file and load the merged polygons."
   ]
  },
  {
   "cell_type": "code",
   "execution_count": 2,
   "metadata": {},
   "outputs": [],
   "source": [
    "directory = \"../data/Drone_Flight/\"\n",
    "out_dir = \"../data/Drone_Flight/output/\"\n",
    "facade_file = \"../data/Drone_Flight/merged_thermal.txt\"\n",
    "\n",
    "#Load the relevant files, and assign directory paths\n",
    "image_dir = directory + \"Thermal/\"\n",
    "param_dir = directory + \"params_thermal/\"\n",
    "p_matrices = np.loadtxt(param_dir + 'pmatrix.txt', usecols=range(1,13))\n",
    "filenames = np.genfromtxt(param_dir + 'pmatrix.txt', usecols=range(1), dtype=str)\n",
    "merged_polygons, facade_type_list, file_format = fw.load_merged_polygon_facades(filename=facade_file)"
   ]
  },
  {
   "cell_type": "markdown",
   "metadata": {},
   "source": [
    "We next load the 'offset' file and add a height-adjustment to the polygons, and specify the image that we want to project the facades onto. We then initialize a dictionary for the Cameras. The Camera class stores all information related to the camera, i.e. intrinsic and extrinsic camera parameters. "
   ]
  },
  {
   "cell_type": "code",
   "execution_count": 3,
   "metadata": {},
   "outputs": [
    {
     "ename": "NameError",
     "evalue": "name 'offset' is not defined",
     "output_type": "error",
     "traceback": [
      "\u001b[0;31m---------------------------------------------------------------------------\u001b[0m",
      "\u001b[0;31mNameError\u001b[0m                                 Traceback (most recent call last)",
      "\u001b[0;32m<ipython-input-3-1884f2b45ed2>\u001b[0m in \u001b[0;36m<module>\u001b[0;34m\u001b[0m\n\u001b[1;32m      1\u001b[0m \u001b[0;31m#Create a dictionary mapping the camera filename to a Camera object\u001b[0m\u001b[0;34m\u001b[0m\u001b[0;34m\u001b[0m\u001b[0;34m\u001b[0m\u001b[0m\n\u001b[0;32m----> 2\u001b[0;31m \u001b[0mcamera_dict\u001b[0m \u001b[0;34m=\u001b[0m \u001b[0mpolygon_projection\u001b[0m\u001b[0;34m.\u001b[0m\u001b[0mcreate_camera_dict\u001b[0m\u001b[0;34m(\u001b[0m\u001b[0mparam_dir\u001b[0m\u001b[0;34m,\u001b[0m \u001b[0moffset\u001b[0m\u001b[0;34m)\u001b[0m\u001b[0;34m\u001b[0m\u001b[0;34m\u001b[0m\u001b[0m\n\u001b[0m\u001b[1;32m      3\u001b[0m \u001b[0;34m\u001b[0m\u001b[0m\n\u001b[1;32m      4\u001b[0m \u001b[0;31m#Load offset and adjust height if necessary for the camera images\u001b[0m\u001b[0;34m\u001b[0m\u001b[0;34m\u001b[0m\u001b[0;34m\u001b[0m\u001b[0m\n\u001b[1;32m      5\u001b[0m \u001b[0moffset\u001b[0m \u001b[0;34m=\u001b[0m \u001b[0mnp\u001b[0m\u001b[0;34m.\u001b[0m\u001b[0mloadtxt\u001b[0m\u001b[0;34m(\u001b[0m\u001b[0mparam_dir\u001b[0m \u001b[0;34m+\u001b[0m \u001b[0;34m\"offset.txt\"\u001b[0m\u001b[0;34m,\u001b[0m\u001b[0musecols\u001b[0m\u001b[0;34m=\u001b[0m\u001b[0mrange\u001b[0m\u001b[0;34m(\u001b[0m\u001b[0;36m3\u001b[0m\u001b[0;34m)\u001b[0m\u001b[0;34m)\u001b[0m\u001b[0;34m\u001b[0m\u001b[0;34m\u001b[0m\u001b[0m\n",
      "\u001b[0;31mNameError\u001b[0m: name 'offset' is not defined"
     ]
    }
   ],
   "source": [
    "#Load offset and adjust height if necessary for the camera images\n",
    "offset = np.loadtxt(param_dir + \"offset.txt\",usecols=range(3))\n",
    "height_adj = 102.0\n",
    "offset_adj = np.array([0.0, 0.0, height_adj])\n",
    "offset = offset + offset_adj\n",
    "\n",
    "#Create a dictionary mapping the camera filename to a Camera object\n",
    "camera_dict = polygon_projection.create_camera_dict(param_dir, offset)\n",
    "\n",
    "#Sets the image file. Note: for thermal images, Pix4D's pmatrix file uses the .tif extension\n",
    "#So we have to use .tif here, which we change later to load the RJPEG images\n",
    "image_filename = \"DJI_0052.tif\"\n",
    "\n",
    "#Get the camera for the specified image file, and calculate the pmatrix\n",
    "camera = camera_dict[image_filename]\n",
    "pmatrix = camera.calc_pmatrix()\n",
    "\n",
    "#Replace the .tif extension to load the .RJPEG image\n",
    "image_filename = image_filename.split('.')[0] + '.jpg'"
   ]
  },
  {
   "cell_type": "markdown",
   "metadata": {},
   "source": [
    "Finally, to project the merged polygons onto the image file, we simply load the image and run 'mark_image_file':"
   ]
  },
  {
   "cell_type": "code",
   "execution_count": null,
   "metadata": {},
   "outputs": [],
   "source": [
    "image = utils.load_image(image_dir + image_filename)\n",
    "out_image = polygon_projection.mark_image_file(image, merged_polygons, facade_type_list, offset, pmatrix)\n",
    "\n",
    "#Plotting\n",
    "plt.imshow(np.asarray(out_image))\n",
    "plt.show()"
   ]
  },
  {
   "cell_type": "markdown",
   "metadata": {},
   "source": [
    "This can then be saved to an output directory 'out_dir' and filename 'filename', as illustrated below."
   ]
  },
  {
   "cell_type": "code",
   "execution_count": null,
   "metadata": {},
   "outputs": [],
   "source": [
    "utils.save_image(image, out_dir, image_filename)"
   ]
  },
  {
   "cell_type": "markdown",
   "metadata": {},
   "source": [
    "To crop the image so that only a single facade is visible:"
   ]
  },
  {
   "cell_type": "code",
   "execution_count": null,
   "metadata": {},
   "outputs": [],
   "source": [
    "cropped_image = polygon_projection.crop_image_outside_building(image, merged_polygons, offset, pmatrix)\n",
    "\n",
    "#Plotting\n",
    "plt.imshow(np.asarray(cropped_image))\n",
    "plt.show()"
   ]
  },
  {
   "cell_type": "code",
   "execution_count": null,
   "metadata": {},
   "outputs": [],
   "source": []
  }
 ],
 "metadata": {
  "kernelspec": {
   "display_name": "Python 3",
   "language": "python",
   "name": "python3"
  },
  "language_info": {
   "codemirror_mode": {
    "name": "ipython",
    "version": 3
   },
   "file_extension": ".py",
   "mimetype": "text/x-python",
   "name": "python",
   "nbconvert_exporter": "python",
   "pygments_lexer": "ipython3",
   "version": "3.6.10"
  }
 },
 "nbformat": 4,
 "nbformat_minor": 4
}
