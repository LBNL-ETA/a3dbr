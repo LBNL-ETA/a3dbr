{
 "cells": [
  {
   "cell_type": "markdown",
   "metadata": {},
   "source": [
    "# Clean code to crop and concatenate drone images \n",
    "\n",
    "Tools to crop big drone images into  smaller images that can be used with Deeplabv3+ model to make prediction, and also codes that take the prediction for the croped images and concatenate them to get back to the original size. There is also a function that superimpose the predicted mask on top of the drone images.\n",
    "\n"
   ]
  },
  {
   "cell_type": "code",
   "execution_count": 1,
   "metadata": {},
   "outputs": [],
   "source": [
    "from image_slicer import save_tiles, slice\n",
    "from pathlib import Path\n",
    "from PIL import Image\n",
    "import numpy as np\n",
    "from math import sqrt, ceil, floor\n",
    "import os\n",
    "import glob\n",
    "\n",
    "\n",
    "def get_concat_h(im2, im1):\n",
    "    dst = Image.new('RGB', (im2.width + im1.width, im2.height))\n",
    "    dst.paste(im2, (0, 0))\n",
    "    dst.paste(im1, (im2.width, 0))\n",
    "    return dst\n",
    "\n",
    "def get_concat_v(im2, im1):\n",
    "    dst = Image.new('RGB', (im2.width, im2.height + im1.height))\n",
    "    dst.paste(im2, (0, 0))\n",
    "    dst.paste(im1, (0, im2.height))\n",
    "    return dst\n",
    "\n",
    "def concat_masks(mask_path, croped_masks_path,images_path,num_cols,num_rows,new_height,new_width,mask_type=\"png\",image_type=\"jpg\"):\n",
    "    os.makedirs(mask_path, exist_ok=True)\n",
    "    croped_filenames = glob.glob(os.path.join(croped_masks_path,\"*\"+mask_type))\n",
    "    files_names = glob.glob(os.path.join(images_path,\"*\"+image_type))\n",
    "    images_names = [Path(x).stem for x in files_names]\n",
    "    for name in images_names:\n",
    "        #print(name)\n",
    "        croped_mask_path = os.path.join(croped_masks_path, Path(name).stem + \"_{row:02d}_{col:02d}.\" + mask_type)\n",
    "        row_images = []\n",
    "        for i in range(num_rows):\n",
    "            path_i_1 = croped_mask_path.format(row = i+1, col = 1)\n",
    "            im_i_1 = Image.open(path_i_1)\n",
    "            for j in range(1,num_cols):\n",
    "                path_i_j = croped_mask_path.format(row = i+1, col = j+1)\n",
    "                im_i_j = Image.open(path_i_j)\n",
    "                im_i_1 = get_concat_h(im_i_1, im_i_j)      \n",
    "            row_images.append(im_i_1)\n",
    "        im_1 = row_images[0]\n",
    "        for i in range(1,num_rows):\n",
    "            im_1 = get_concat_v(im_1,row_images[i])\n",
    "            \n",
    "        concat_mask_path = os.path.join(mask_path, name + \".\" + mask_type)\n",
    "        #print(concat_mask_path)\n",
    "        im_1 = im_1.resize((new_height,new_width))\n",
    "        im_1.save(concat_mask_path)\n",
    "        \n",
    "\n",
    "def crop_images(images_path, croped_images_path,crop_num,image_type):\n",
    "    os.makedirs(croped_images_path, exist_ok=True)\n",
    "    files_names = glob.glob(os.path.join(images_path,\"*\"+image_type))\n",
    "    for file_name in files_names:\n",
    "        croped_images = slice(file_name, crop_num, save=False)\n",
    "        save_tiles(croped_images, prefix=Path(file_name).stem, directory=croped_images_path, format=\"JPEG\")\n",
    "               \n",
    "def resize_images(croped_images_path,new_height,new_width,image_type):\n",
    "    files_names = glob.glob(os.path.join(croped_images_path,\"*\"+image_type))\n",
    "    for filename in files_names:\n",
    "        im = Image.open(filename)\n",
    "        im = im.resize((new_height,new_width))\n",
    "        im.save(filename)\n",
    "        \n",
    "        \n",
    "def superimpose_images_masks(superimposed_path,images_path,masks_path):\n",
    "    os.makedirs(superimposed_path, exist_ok=True)\n",
    "    files_names = glob.glob(os.path.join(images_path,\"*\"+\"JPG\"))\n",
    "    images_names = [Path(x).stem for x in files_names]\n",
    "    for name in images_names:\n",
    "        mask_file_path = os.path.join(masks_path, name + \".\" + \"png\")\n",
    "        image_file_path = os.path.join(images_path, name + \".\" + \"JPG\")\n",
    "        superimposed_file_path = os.path.join(superimposed_path, name + \".\" + \"jpg\")\n",
    "        image = Image.open(image_file_path)\n",
    "        background = image.convert('RGBA')\n",
    "        mask = Image.open(mask_file_path)\n",
    "        foreground = mask.convert('RGBA')\n",
    "        superimp =Image.blend(background, foreground, alpha=.35)\n",
    "        superimp = superimp.convert('RGB')\n",
    "        superimp.save(superimposed_file_path)\n",
    "        "
   ]
  },
  {
   "cell_type": "code",
   "execution_count": 188,
   "metadata": {},
   "outputs": [],
   "source": [
    "images_path = \"/Users/stouzani/Desktop/Unstructured_ML/Drone/Drone_Data_Capture/pix4d_HQ/dji_demo/images/\"\n",
    "croped_images_path = \"/Users/stouzani/Desktop/Unstructured_ML/Drone/Drone_Data_Capture/pix4d_HQ/dji_demo/images_croped_2/\"\n",
    "crop_images(images_path, croped_images_path,crop_num=12,image_type=\"JPG\")"
   ]
  },
  {
   "cell_type": "code",
   "execution_count": 200,
   "metadata": {},
   "outputs": [],
   "source": [
    "resize_images(croped_images_path,new_height=512,new_width=512,image_type=\"jpg\")"
   ]
  },
  {
   "cell_type": "code",
   "execution_count": 225,
   "metadata": {},
   "outputs": [],
   "source": [
    "images_path = \"/Users/stouzani/Desktop/Unstructured_ML/Drone/Drone_Data_Capture/pix4d_HQ/dji_demo/images/\"\n",
    "croped_masks_path = \"/Users/stouzani/Desktop/Unstructured_ML/Drone/Drone_Data_Capture/pix4d_HQ/dji_demo/masks_croped_2/\"\n",
    "masks_path = \"/Users/stouzani/Desktop/Unstructured_ML/Drone/Drone_Data_Capture/pix4d_HQ/dji_demo/masks_2/\"\n",
    "#concat_masks(masks_path, croped_masks_path,images_path,num_cols=4,num_rows=3,new_height=4000,new_width=3000,mask_type=\"png\",image_type=\"JPG\")"
   ]
  },
  {
   "cell_type": "code",
   "execution_count": 226,
   "metadata": {},
   "outputs": [],
   "source": [
    "superimposed_path = \"/Users/stouzani/Desktop/Unstructured_ML/Drone/Drone_Data_Capture/pix4d_HQ/dji_demo/superimposed_2/\"\n",
    "superimpose_images_masks(superimposed_path,images_path,masks_path)"
   ]
  },
  {
   "cell_type": "code",
   "execution_count": null,
   "metadata": {},
   "outputs": [],
   "source": []
  },
  {
   "cell_type": "code",
   "execution_count": null,
   "metadata": {},
   "outputs": [],
   "source": []
  },
  {
   "cell_type": "code",
   "execution_count": 2,
   "metadata": {},
   "outputs": [],
   "source": [
    "import numpy as np\n",
    "filename = \"/Users/stouzani/Desktop/Unstructured_ML/Drone/Drone_Data_Capture/pix4d_HQ/dji_demo/superimposed_2/DJI_0113.JPG\"\n",
    "im_org = Image.open(filename)"
   ]
  },
  {
   "cell_type": "code",
   "execution_count": 6,
   "metadata": {},
   "outputs": [],
   "source": [
    "data = np.asarray(im_org)"
   ]
  },
  {
   "cell_type": "code",
   "execution_count": 7,
   "metadata": {},
   "outputs": [
    {
     "data": {
      "text/plain": [
       "(3000, 4000, 3)"
      ]
     },
     "execution_count": 7,
     "metadata": {},
     "output_type": "execute_result"
    }
   ],
   "source": [
    "data.shape"
   ]
  },
  {
   "cell_type": "markdown",
   "metadata": {},
   "source": [
    "# Diecece 32 "
   ]
  },
  {
   "cell_type": "code",
   "execution_count": 223,
   "metadata": {},
   "outputs": [],
   "source": [
    "images_path = \"/Users/stouzani/Desktop/Unstructured_ML/Drone/Drone_Data_Capture/pix4d_HQ/dji_demo/images/\"\n",
    "croped_masks_path = \"/Users/stouzani/Desktop/Unstructured_ML/Drone/Drone_Data_Capture/pix4d_HQ/dji_demo/masks_croped_dicece32/\"\n",
    "masks_path = \"/Users/stouzani/Desktop/Unstructured_ML/Drone/Drone_Data_Capture/pix4d_HQ/dji_demo/masks_dicece32/\"\n",
    "concat_masks(masks_path, croped_masks_path,images_path,num_cols=4,num_rows=3,new_height=4000,new_width=3000,mask_type=\"png\",image_type=\"JPG\")"
   ]
  },
  {
   "cell_type": "code",
   "execution_count": 224,
   "metadata": {},
   "outputs": [],
   "source": [
    "superimposed_path = \"/Users/stouzani/Desktop/Unstructured_ML/Drone/Drone_Data_Capture/pix4d_HQ/dji_demo/superimposed_dicece32/\"\n",
    "superimpose_images_masks(superimposed_path,images_path,masks_path)"
   ]
  },
  {
   "cell_type": "code",
   "execution_count": null,
   "metadata": {},
   "outputs": [],
   "source": []
  },
  {
   "cell_type": "markdown",
   "metadata": {},
   "source": [
    "# Dicece32 probs"
   ]
  },
  {
   "cell_type": "code",
   "execution_count": 227,
   "metadata": {},
   "outputs": [],
   "source": [
    "images_path = \"/Users/stouzani/Desktop/Unstructured_ML/Drone/Drone_Data_Capture/pix4d_HQ/dji_demo/images/\"\n",
    "croped_masks_path = \"/Users/stouzani/Desktop/Unstructured_ML/Drone/Drone_Data_Capture/pix4d_HQ/dji_demo/masks_croped_probs_dicece32/\"\n",
    "masks_path = \"/Users/stouzani/Desktop/Unstructured_ML/Drone/Drone_Data_Capture/pix4d_HQ/dji_demo/masks_probs_dicece32/\"\n",
    "concat_masks(masks_path, croped_masks_path,images_path,num_cols=4,num_rows=3,new_height=4000,new_width=3000,mask_type=\"png\",image_type=\"JPG\")"
   ]
  },
  {
   "cell_type": "code",
   "execution_count": 228,
   "metadata": {},
   "outputs": [],
   "source": [
    "superimposed_path = \"/Users/stouzani/Desktop/Unstructured_ML/Drone/Drone_Data_Capture/pix4d_HQ/dji_demo/superimposed_dicece32_probs/\"\n",
    "superimpose_images_masks(superimposed_path,images_path,masks_path)"
   ]
  },
  {
   "cell_type": "code",
   "execution_count": null,
   "metadata": {},
   "outputs": [],
   "source": []
  }
 ],
 "metadata": {
  "kernelspec": {
   "display_name": "a3dbr",
   "language": "python",
   "name": "a3dbr"
  },
  "language_info": {
   "codemirror_mode": {
    "name": "ipython",
    "version": 3
   },
   "file_extension": ".py",
   "mimetype": "text/x-python",
   "name": "python",
   "nbconvert_exporter": "python",
   "pygments_lexer": "ipython3",
   "version": "3.8.5"
  }
 },
 "nbformat": 4,
 "nbformat_minor": 2
}
