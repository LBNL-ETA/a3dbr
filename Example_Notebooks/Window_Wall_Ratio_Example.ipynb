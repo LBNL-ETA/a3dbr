{
 "cells": [
  {
   "cell_type": "code",
   "execution_count": 14,
   "metadata": {},
   "outputs": [
    {
     "name": "stdout",
     "output_type": "stream",
     "text": [
      "The autoreload extension is already loaded. To reload it, use:\n",
      "  %reload_ext autoreload\n"
     ]
    }
   ],
   "source": [
    "%load_ext autoreload\n",
    "%autoreload 2\n",
    "from matplotlib.path import Path\n",
    "import numpy as np\n",
    "import matplotlib.pyplot as plt\n",
    "import cv2\n",
    "from PIL import Image\n",
    "import argparse\n",
    "import os, sys\n",
    "sys.path.append(os.path.dirname(os.getcwd()))\n",
    "import polygon_primitives.file_writer as fw\n",
    "\n",
    "from image_processing import extract_window_wall_ratio, utils, contour_extraction\n",
    "from scipy.spatial import Delaunay"
   ]
  },
  {
   "cell_type": "markdown",
   "metadata": {},
   "source": [
    "First, we set the image and parameter directories, as well as the merged polygons file path. We load the merged polygons, as wWe also initialize a dictionary for the Cameras. The Camera class stores all information related to the camera, i.e. intrinsic and extrinsic camera parameters."
   ]
  },
  {
   "cell_type": "code",
   "execution_count": 19,
   "metadata": {},
   "outputs": [],
   "source": [
    "#Example file\n",
    "filename = \"DJI_0081.JPG\"\n",
    "\n",
    "directory = \"../data/Drone_Flight/\"\n",
    "facade_file = \"../data/Drone_Flight/merged.txt\"\n",
    "\n",
    "image_dir = directory + \"RGB/\"\n",
    "param_dir = directory + \"params/\"\n",
    "predictions_dir = directory + \"predictions/\"\n",
    "\n",
    "offset = np.loadtxt(param_dir + \"offset.txt\",usecols=range(3))\n",
    "\n",
    "#Initializes a dictionary of Camera classes. See utils.py for more information.\n",
    "camera_dict = utils.create_camera_dict(param_dir, offset=offset)\n",
    "\n",
    "#Loads pmatrices and image filenamees\n",
    "p_matrices = np.loadtxt(param_dir + 'pmatrix.txt', usecols=range(1,13))\n",
    "\n",
    "#Loads the merged polygons, as well as a list of facade types (i.e. roof, wall, or floor)\n",
    "merged_polygons, facade_type_list, file_format = fw.load_merged_polygon_facades(filename=facade_file)\n",
    "\n",
    "#Offset adjustment parameter\n",
    "height_adj = np.array([0.0, 0.0, 108])\n",
    "offset = offset + height_adj\n"
   ]
  },
  {
   "cell_type": "markdown",
   "metadata": {},
   "source": [
    "Next, we extract the contours for the window predictions, by taking the window prediction points and using them to create a shapely polygon."
   ]
  },
  {
   "cell_type": "code",
   "execution_count": 18,
   "metadata": {},
   "outputs": [
    {
     "name": "stdout",
     "output_type": "stream",
     "text": [
      "Window predictions: \n"
     ]
    },
    {
     "data": {
      "image/png": "[encoded data removed]",
      "text/plain": [
       "<Figure size 432x288 with 1 Axes>"
      ]
     },
     "metadata": {
      "needs_background": "light"
     },
     "output_type": "display_data"
    },
    {
     "name": "stdout",
     "output_type": "stream",
     "text": [
      "Extracted contours: \n"
     ]
    },
    {
     "data": {
      "image/png": "[encoded data removed]",
      "text/plain": [
       "<Figure size 432x288 with 1 Axes>"
      ]
     },
     "metadata": {
      "needs_background": "light"
     },
     "output_type": "display_data"
    }
   ],
   "source": [
    "window_file = predictions_dir + \"DJI_0081_Windows.png\"\n",
    "\n",
    "print(\"Window predictions: \")\n",
    "image = cv2.imread(window_file)\n",
    "plt.imshow(image)\n",
    "plt.show()\n",
    "\n",
    "#Extract the contours of the window file\n",
    "contours = contour_extraction.extract_contours(window_file)\n",
    "\n",
    "#Create polygons from the window contours\n",
    "window_polygons = utils.convert_polygons_shapely(contours)\n",
    "\n",
    "\n",
    "def plot_shapely_polys(image_file, polys):\n",
    "    for poly in polys:\n",
    "        s = poly\n",
    "        s = poly.simplify(0.1, preserve_topology=True)\n",
    "        x,y = s.exterior.xy\n",
    "        plt.plot(x,y)\n",
    "    plt.show()\n",
    "\n",
    "print(\"Extracted contours: \")\n",
    "plt.imshow(image)\n",
    "plot_shapely_polys(window_file, window_polygons)"
   ]
  },
  {
   "cell_type": "markdown",
   "metadata": {},
   "source": [
    "Finally, for each window point, we obtain its 3D coordinates and use them to calculate the window to wall ratio."
   ]
  },
  {
   "cell_type": "code",
   "execution_count": 30,
   "metadata": {},
   "outputs": [
    {
     "name": "stdout",
     "output_type": "stream",
     "text": [
      "Facade index: 22\n",
      "Window-to-wall ratio: 0.0977586847480746\n",
      "Facade index: 25\n",
      "Window-to-wall ratio: 0.07369005447146922\n",
      "Facade index: 12\n",
      "Window-to-wall ratio: 0.11308840228711164\n"
     ]
    }
   ],
   "source": [
    "camera = camera_dict[filename]\n",
    "pmatrix = camera.calc_pmatrix()\n",
    "\n",
    "image_file = utils.load_image(image_dir + filename)\n",
    "\n",
    "#Projects the merged polygon facades onto the camera image\n",
    "projected_facades, projective_distances = extract_window_wall_ratio.project_merged_polygons(\n",
    "    merged_polygons, offset, pmatrix)\n",
    "\n",
    "#Creates a dictionary mapping the facade to the windows contained within them, keyed by facade index\n",
    "facade_window_map = extract_window_wall_ratio.get_facade_window_map(\n",
    "    window_polygons, projected_facades, projective_distances)\n",
    "\n",
    "#Creates a list of all the facades in the merged polygon\n",
    "facades = []\n",
    "for poly in merged_polygons:\n",
    "    facades = facades + poly\n",
    "\n",
    "facade_indices = list(facade_window_map.keys())\n",
    "for i in facade_indices:\n",
    "    #Computes window to wall ratio\n",
    "    win_wall_ratio = extract_window_wall_ratio.get_window_wall_ratio(\n",
    "        projected_facades[i], facades[i], facade_window_map[i])\n",
    "\n",
    "    #Output printing:\n",
    "    print(\"Facade index: \" + str(i))\n",
    "    print(\"Window-to-wall ratio: \" + str(win_wall_ratio))\n",
    "    \n",
    "    #Uncomment this line to plot the windows and facades on the image\n",
    "#     extract_window_wall_ratio.plot_windows_facade(projected_facades[i], facade_window_map[i], image_file)"
   ]
  },
  {
   "cell_type": "code",
   "execution_count": null,
   "metadata": {},
   "outputs": [],
   "source": []
  }
 ],
 "metadata": {
  "kernelspec": {
   "display_name": "Python 3",
   "language": "python",
   "name": "python3"
  },
  "language_info": {
   "codemirror_mode": {
    "name": "ipython",
    "version": 3
   },
   "file_extension": ".py",
   "mimetype": "text/x-python",
   "name": "python",
   "nbconvert_exporter": "python",
   "pygments_lexer": "ipython3",
   "version": "3.6.10"
  }
 },
 "nbformat": 4,
 "nbformat_minor": 4
}
